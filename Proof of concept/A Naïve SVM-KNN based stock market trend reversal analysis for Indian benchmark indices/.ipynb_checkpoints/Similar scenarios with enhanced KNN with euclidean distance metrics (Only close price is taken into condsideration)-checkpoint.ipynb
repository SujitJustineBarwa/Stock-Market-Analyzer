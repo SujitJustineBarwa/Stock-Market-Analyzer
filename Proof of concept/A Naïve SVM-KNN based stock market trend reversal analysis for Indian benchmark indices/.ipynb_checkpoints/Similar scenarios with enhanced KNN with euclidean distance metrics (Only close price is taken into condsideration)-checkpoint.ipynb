{
 "cells": [
  {
   "cell_type": "code",
   "execution_count": 1,
   "id": "32778729-325a-4ca8-a7d0-8be98379971a",
   "metadata": {},
   "outputs": [],
   "source": [
    "import yfinance\n",
    "import pandas as pd\n",
    "import numpy as np\n",
    "import matplotlib.pyplot as plt\n",
    "from sklearn.neighbors import NearestNeighbors\n",
    "from tqdm import tqdm\n",
    "\n",
    "import warnings\n",
    "warnings.filterwarnings('ignore')"
   ]
  },
  {
   "cell_type": "markdown",
   "id": "c814f57b-4833-44a0-b88d-6a3df3ef947c",
   "metadata": {},
   "source": [
    "# **Reading the CSV files**"
   ]
  },
  {
   "cell_type": "code",
   "execution_count": 2,
   "id": "e4112ca3-9c8f-4ca7-b1c4-e1f5b5160b21",
   "metadata": {},
   "outputs": [
    {
     "data": {
      "text/html": [
       "<div>\n",
       "<style scoped>\n",
       "    .dataframe tbody tr th:only-of-type {\n",
       "        vertical-align: middle;\n",
       "    }\n",
       "\n",
       "    .dataframe tbody tr th {\n",
       "        vertical-align: top;\n",
       "    }\n",
       "\n",
       "    .dataframe thead th {\n",
       "        text-align: right;\n",
       "    }\n",
       "</style>\n",
       "<table border=\"1\" class=\"dataframe\">\n",
       "  <thead>\n",
       "    <tr style=\"text-align: right;\">\n",
       "      <th></th>\n",
       "      <th>Date</th>\n",
       "      <th>Open</th>\n",
       "      <th>High</th>\n",
       "      <th>Low</th>\n",
       "      <th>Close</th>\n",
       "      <th>Adj Close</th>\n",
       "      <th>Volume</th>\n",
       "    </tr>\n",
       "  </thead>\n",
       "  <tbody>\n",
       "    <tr>\n",
       "      <th>0</th>\n",
       "      <td>2007-09-17</td>\n",
       "      <td>4518.450195</td>\n",
       "      <td>4549.049805</td>\n",
       "      <td>4482.850098</td>\n",
       "      <td>4494.649902</td>\n",
       "      <td>4494.649902</td>\n",
       "      <td>0</td>\n",
       "    </tr>\n",
       "    <tr>\n",
       "      <th>1</th>\n",
       "      <td>2007-09-18</td>\n",
       "      <td>4494.100098</td>\n",
       "      <td>4551.799805</td>\n",
       "      <td>4481.549805</td>\n",
       "      <td>4546.200195</td>\n",
       "      <td>4546.200195</td>\n",
       "      <td>0</td>\n",
       "    </tr>\n",
       "    <tr>\n",
       "      <th>2</th>\n",
       "      <td>2007-09-19</td>\n",
       "      <td>4550.250000</td>\n",
       "      <td>4739.000000</td>\n",
       "      <td>4550.250000</td>\n",
       "      <td>4732.350098</td>\n",
       "      <td>4732.350098</td>\n",
       "      <td>0</td>\n",
       "    </tr>\n",
       "    <tr>\n",
       "      <th>3</th>\n",
       "      <td>2007-09-20</td>\n",
       "      <td>4734.850098</td>\n",
       "      <td>4760.850098</td>\n",
       "      <td>4721.149902</td>\n",
       "      <td>4747.549805</td>\n",
       "      <td>4747.549805</td>\n",
       "      <td>0</td>\n",
       "    </tr>\n",
       "    <tr>\n",
       "      <th>4</th>\n",
       "      <td>2007-09-21</td>\n",
       "      <td>4752.950195</td>\n",
       "      <td>4855.700195</td>\n",
       "      <td>4733.700195</td>\n",
       "      <td>4837.549805</td>\n",
       "      <td>4837.549805</td>\n",
       "      <td>0</td>\n",
       "    </tr>\n",
       "  </tbody>\n",
       "</table>\n",
       "</div>"
      ],
      "text/plain": [
       "         Date         Open         High          Low        Close  \\\n",
       "0  2007-09-17  4518.450195  4549.049805  4482.850098  4494.649902   \n",
       "1  2007-09-18  4494.100098  4551.799805  4481.549805  4546.200195   \n",
       "2  2007-09-19  4550.250000  4739.000000  4550.250000  4732.350098   \n",
       "3  2007-09-20  4734.850098  4760.850098  4721.149902  4747.549805   \n",
       "4  2007-09-21  4752.950195  4855.700195  4733.700195  4837.549805   \n",
       "\n",
       "     Adj Close  Volume  \n",
       "0  4494.649902       0  \n",
       "1  4546.200195       0  \n",
       "2  4732.350098       0  \n",
       "3  4747.549805       0  \n",
       "4  4837.549805       0  "
      ]
     },
     "execution_count": 2,
     "metadata": {},
     "output_type": "execute_result"
    }
   ],
   "source": [
    "# Read the CSV file\n",
    "filenames = ['sensex_1990_to_2014.csv',\n",
    "             'nifty_1994_to_2014.csv',\n",
    "             'nifty_2000_to_2024.csv']\n",
    "\n",
    "file_name = 'nifty_1994_to_2014.csv'\n",
    "#file_name = 'nifty_1994_to_2014.csv'\n",
    "#file_name = 'nifty_2000_to_2024.csv'\n",
    "\n",
    "data = pd.read_csv(file_name)\n",
    "data.head()"
   ]
  },
  {
   "cell_type": "code",
   "execution_count": 3,
   "id": "77b7dc04-dd9c-4e93-9b56-6ab63292947a",
   "metadata": {},
   "outputs": [
    {
     "data": {
      "text/html": [
       "<div>\n",
       "<style scoped>\n",
       "    .dataframe tbody tr th:only-of-type {\n",
       "        vertical-align: middle;\n",
       "    }\n",
       "\n",
       "    .dataframe tbody tr th {\n",
       "        vertical-align: top;\n",
       "    }\n",
       "\n",
       "    .dataframe thead th {\n",
       "        text-align: right;\n",
       "    }\n",
       "</style>\n",
       "<table border=\"1\" class=\"dataframe\">\n",
       "  <thead>\n",
       "    <tr style=\"text-align: right;\">\n",
       "      <th></th>\n",
       "      <th>Open</th>\n",
       "      <th>High</th>\n",
       "      <th>Low</th>\n",
       "      <th>Close</th>\n",
       "      <th>Adj Close</th>\n",
       "      <th>Volume</th>\n",
       "    </tr>\n",
       "  </thead>\n",
       "  <tbody>\n",
       "    <tr>\n",
       "      <th>count</th>\n",
       "      <td>1700.000000</td>\n",
       "      <td>1700.000000</td>\n",
       "      <td>1700.000000</td>\n",
       "      <td>1700.000000</td>\n",
       "      <td>1700.000000</td>\n",
       "      <td>1700.000000</td>\n",
       "    </tr>\n",
       "    <tr>\n",
       "      <th>mean</th>\n",
       "      <td>5291.749764</td>\n",
       "      <td>5336.862885</td>\n",
       "      <td>5241.120997</td>\n",
       "      <td>5290.119381</td>\n",
       "      <td>5290.119381</td>\n",
       "      <td>38655.058824</td>\n",
       "    </tr>\n",
       "    <tr>\n",
       "      <th>std</th>\n",
       "      <td>996.396802</td>\n",
       "      <td>989.287755</td>\n",
       "      <td>1003.653913</td>\n",
       "      <td>996.116806</td>\n",
       "      <td>996.116806</td>\n",
       "      <td>74383.681317</td>\n",
       "    </tr>\n",
       "    <tr>\n",
       "      <th>min</th>\n",
       "      <td>2553.600098</td>\n",
       "      <td>2585.300049</td>\n",
       "      <td>2252.750000</td>\n",
       "      <td>2524.199951</td>\n",
       "      <td>2524.199951</td>\n",
       "      <td>0.000000</td>\n",
       "    </tr>\n",
       "    <tr>\n",
       "      <th>25%</th>\n",
       "      <td>4882.237305</td>\n",
       "      <td>4935.449829</td>\n",
       "      <td>4835.637451</td>\n",
       "      <td>4887.637451</td>\n",
       "      <td>4887.637451</td>\n",
       "      <td>0.000000</td>\n",
       "    </tr>\n",
       "    <tr>\n",
       "      <th>50%</th>\n",
       "      <td>5342.224854</td>\n",
       "      <td>5382.899902</td>\n",
       "      <td>5297.350098</td>\n",
       "      <td>5334.349854</td>\n",
       "      <td>5334.349854</td>\n",
       "      <td>0.000000</td>\n",
       "    </tr>\n",
       "    <tr>\n",
       "      <th>75%</th>\n",
       "      <td>5888.749878</td>\n",
       "      <td>5923.625122</td>\n",
       "      <td>5844.474976</td>\n",
       "      <td>5889.887451</td>\n",
       "      <td>5889.887451</td>\n",
       "      <td>0.000000</td>\n",
       "    </tr>\n",
       "    <tr>\n",
       "      <th>max</th>\n",
       "      <td>7942.250000</td>\n",
       "      <td>7968.250000</td>\n",
       "      <td>7939.200195</td>\n",
       "      <td>7954.350098</td>\n",
       "      <td>7954.350098</td>\n",
       "      <td>437000.000000</td>\n",
       "    </tr>\n",
       "  </tbody>\n",
       "</table>\n",
       "</div>"
      ],
      "text/plain": [
       "              Open         High          Low        Close    Adj Close  \\\n",
       "count  1700.000000  1700.000000  1700.000000  1700.000000  1700.000000   \n",
       "mean   5291.749764  5336.862885  5241.120997  5290.119381  5290.119381   \n",
       "std     996.396802   989.287755  1003.653913   996.116806   996.116806   \n",
       "min    2553.600098  2585.300049  2252.750000  2524.199951  2524.199951   \n",
       "25%    4882.237305  4935.449829  4835.637451  4887.637451  4887.637451   \n",
       "50%    5342.224854  5382.899902  5297.350098  5334.349854  5334.349854   \n",
       "75%    5888.749878  5923.625122  5844.474976  5889.887451  5889.887451   \n",
       "max    7942.250000  7968.250000  7939.200195  7954.350098  7954.350098   \n",
       "\n",
       "              Volume  \n",
       "count    1700.000000  \n",
       "mean    38655.058824  \n",
       "std     74383.681317  \n",
       "min         0.000000  \n",
       "25%         0.000000  \n",
       "50%         0.000000  \n",
       "75%         0.000000  \n",
       "max    437000.000000  "
      ]
     },
     "execution_count": 3,
     "metadata": {},
     "output_type": "execute_result"
    }
   ],
   "source": [
    "data.describe()"
   ]
  },
  {
   "cell_type": "markdown",
   "id": "175a4dd2-c3a6-490e-9b4b-1bea5ad7324a",
   "metadata": {},
   "source": [
    "# **Calculate the Technical Indicator**"
   ]
  },
  {
   "cell_type": "code",
   "execution_count": 4,
   "id": "a1dc2ceb-e16a-4676-8c25-6b63801d17cd",
   "metadata": {},
   "outputs": [],
   "source": [
    "# Define the parameters\n",
    "sma_window_size = 3\n",
    "ema_smoothing_param = 0.2\n",
    "williams_r_window_size = 3\n",
    "RSI_window_size = 14\n",
    "ATR_window_size = 14\n",
    "VR_window_size = 14\n",
    "\n",
    "k_param = 10                 # Defining the k parameter for KNN algorithm\n",
    "training_set_ratio = 0.9     # Defining the training set for KNN algorithm\n",
    "enable_knn_normalization = True"
   ]
  },
  {
   "cell_type": "code",
   "execution_count": 5,
   "id": "4d0b281f-8a10-4f1d-b4a2-5653c1c6e634",
   "metadata": {},
   "outputs": [
    {
     "ename": "KeyError",
     "evalue": "\"['Date', 'Open', 'High', 'Low'] not found in axis\"",
     "output_type": "error",
     "traceback": [
      "\u001b[0;31m---------------------------------------------------------------------------\u001b[0m",
      "\u001b[0;31mKeyError\u001b[0m                                  Traceback (most recent call last)",
      "Cell \u001b[0;32mIn[5], line 11\u001b[0m\n\u001b[1;32m      8\u001b[0m     data\u001b[38;5;241m.\u001b[39mdropna(inplace \u001b[38;5;241m=\u001b[39m \u001b[38;5;28;01mTrue\u001b[39;00m)\n\u001b[1;32m      9\u001b[0m     \u001b[38;5;28;01mreturn\u001b[39;00m data\n\u001b[0;32m---> 11\u001b[0m data \u001b[38;5;241m=\u001b[39m TI_calculations(data)\n\u001b[1;32m     12\u001b[0m data\u001b[38;5;241m.\u001b[39mtail()\n",
      "Cell \u001b[0;32mIn[5], line 4\u001b[0m, in \u001b[0;36mTI_calculations\u001b[0;34m(data)\u001b[0m\n\u001b[1;32m      2\u001b[0m data \u001b[38;5;241m=\u001b[39m data[[\u001b[38;5;124m'\u001b[39m\u001b[38;5;124mClose\u001b[39m\u001b[38;5;124m'\u001b[39m]]\n\u001b[1;32m      3\u001b[0m data[\u001b[38;5;124m'\u001b[39m\u001b[38;5;124mreturns\u001b[39m\u001b[38;5;124m'\u001b[39m] \u001b[38;5;241m=\u001b[39m \u001b[38;5;241m-\u001b[39mdata[\u001b[38;5;124m'\u001b[39m\u001b[38;5;124mClose\u001b[39m\u001b[38;5;124m'\u001b[39m]\u001b[38;5;241m.\u001b[39mdiff(\u001b[38;5;241m-\u001b[39m\u001b[38;5;241m1\u001b[39m)\n\u001b[0;32m----> 4\u001b[0m data\u001b[38;5;241m.\u001b[39mdrop(columns\u001b[38;5;241m=\u001b[39m[\u001b[38;5;124m'\u001b[39m\u001b[38;5;124mDate\u001b[39m\u001b[38;5;124m'\u001b[39m,\u001b[38;5;124m'\u001b[39m\u001b[38;5;124mOpen\u001b[39m\u001b[38;5;124m'\u001b[39m,\u001b[38;5;124m'\u001b[39m\u001b[38;5;124mHigh\u001b[39m\u001b[38;5;124m'\u001b[39m,\u001b[38;5;124m'\u001b[39m\u001b[38;5;124mLow\u001b[39m\u001b[38;5;124m'\u001b[39m],inplace\u001b[38;5;241m=\u001b[39m\u001b[38;5;28;01mTrue\u001b[39;00m)\n\u001b[1;32m      6\u001b[0m \u001b[38;5;66;03m# Remove non-numeric values\u001b[39;00m\n\u001b[1;32m      7\u001b[0m data \u001b[38;5;241m=\u001b[39m data\u001b[38;5;241m.\u001b[39mapply(pd\u001b[38;5;241m.\u001b[39mto_numeric, errors\u001b[38;5;241m=\u001b[39m\u001b[38;5;124m'\u001b[39m\u001b[38;5;124mcoerce\u001b[39m\u001b[38;5;124m'\u001b[39m)\n",
      "File \u001b[0;32m~/anaconda3/lib/python3.11/site-packages/pandas/core/frame.py:5344\u001b[0m, in \u001b[0;36mDataFrame.drop\u001b[0;34m(self, labels, axis, index, columns, level, inplace, errors)\u001b[0m\n\u001b[1;32m   5196\u001b[0m \u001b[38;5;28;01mdef\u001b[39;00m \u001b[38;5;21mdrop\u001b[39m(\n\u001b[1;32m   5197\u001b[0m     \u001b[38;5;28mself\u001b[39m,\n\u001b[1;32m   5198\u001b[0m     labels: IndexLabel \u001b[38;5;241m|\u001b[39m \u001b[38;5;28;01mNone\u001b[39;00m \u001b[38;5;241m=\u001b[39m \u001b[38;5;28;01mNone\u001b[39;00m,\n\u001b[0;32m   (...)\u001b[0m\n\u001b[1;32m   5205\u001b[0m     errors: IgnoreRaise \u001b[38;5;241m=\u001b[39m \u001b[38;5;124m\"\u001b[39m\u001b[38;5;124mraise\u001b[39m\u001b[38;5;124m\"\u001b[39m,\n\u001b[1;32m   5206\u001b[0m ) \u001b[38;5;241m-\u001b[39m\u001b[38;5;241m>\u001b[39m DataFrame \u001b[38;5;241m|\u001b[39m \u001b[38;5;28;01mNone\u001b[39;00m:\n\u001b[1;32m   5207\u001b[0m \u001b[38;5;250m    \u001b[39m\u001b[38;5;124;03m\"\"\"\u001b[39;00m\n\u001b[1;32m   5208\u001b[0m \u001b[38;5;124;03m    Drop specified labels from rows or columns.\u001b[39;00m\n\u001b[1;32m   5209\u001b[0m \n\u001b[0;32m   (...)\u001b[0m\n\u001b[1;32m   5342\u001b[0m \u001b[38;5;124;03m            weight  1.0     0.8\u001b[39;00m\n\u001b[1;32m   5343\u001b[0m \u001b[38;5;124;03m    \"\"\"\u001b[39;00m\n\u001b[0;32m-> 5344\u001b[0m     \u001b[38;5;28;01mreturn\u001b[39;00m \u001b[38;5;28msuper\u001b[39m()\u001b[38;5;241m.\u001b[39mdrop(\n\u001b[1;32m   5345\u001b[0m         labels\u001b[38;5;241m=\u001b[39mlabels,\n\u001b[1;32m   5346\u001b[0m         axis\u001b[38;5;241m=\u001b[39maxis,\n\u001b[1;32m   5347\u001b[0m         index\u001b[38;5;241m=\u001b[39mindex,\n\u001b[1;32m   5348\u001b[0m         columns\u001b[38;5;241m=\u001b[39mcolumns,\n\u001b[1;32m   5349\u001b[0m         level\u001b[38;5;241m=\u001b[39mlevel,\n\u001b[1;32m   5350\u001b[0m         inplace\u001b[38;5;241m=\u001b[39minplace,\n\u001b[1;32m   5351\u001b[0m         errors\u001b[38;5;241m=\u001b[39merrors,\n\u001b[1;32m   5352\u001b[0m     )\n",
      "File \u001b[0;32m~/anaconda3/lib/python3.11/site-packages/pandas/core/generic.py:4711\u001b[0m, in \u001b[0;36mNDFrame.drop\u001b[0;34m(self, labels, axis, index, columns, level, inplace, errors)\u001b[0m\n\u001b[1;32m   4709\u001b[0m \u001b[38;5;28;01mfor\u001b[39;00m axis, labels \u001b[38;5;129;01min\u001b[39;00m axes\u001b[38;5;241m.\u001b[39mitems():\n\u001b[1;32m   4710\u001b[0m     \u001b[38;5;28;01mif\u001b[39;00m labels \u001b[38;5;129;01mis\u001b[39;00m \u001b[38;5;129;01mnot\u001b[39;00m \u001b[38;5;28;01mNone\u001b[39;00m:\n\u001b[0;32m-> 4711\u001b[0m         obj \u001b[38;5;241m=\u001b[39m obj\u001b[38;5;241m.\u001b[39m_drop_axis(labels, axis, level\u001b[38;5;241m=\u001b[39mlevel, errors\u001b[38;5;241m=\u001b[39merrors)\n\u001b[1;32m   4713\u001b[0m \u001b[38;5;28;01mif\u001b[39;00m inplace:\n\u001b[1;32m   4714\u001b[0m     \u001b[38;5;28mself\u001b[39m\u001b[38;5;241m.\u001b[39m_update_inplace(obj)\n",
      "File \u001b[0;32m~/anaconda3/lib/python3.11/site-packages/pandas/core/generic.py:4753\u001b[0m, in \u001b[0;36mNDFrame._drop_axis\u001b[0;34m(self, labels, axis, level, errors, only_slice)\u001b[0m\n\u001b[1;32m   4751\u001b[0m         new_axis \u001b[38;5;241m=\u001b[39m axis\u001b[38;5;241m.\u001b[39mdrop(labels, level\u001b[38;5;241m=\u001b[39mlevel, errors\u001b[38;5;241m=\u001b[39merrors)\n\u001b[1;32m   4752\u001b[0m     \u001b[38;5;28;01melse\u001b[39;00m:\n\u001b[0;32m-> 4753\u001b[0m         new_axis \u001b[38;5;241m=\u001b[39m axis\u001b[38;5;241m.\u001b[39mdrop(labels, errors\u001b[38;5;241m=\u001b[39merrors)\n\u001b[1;32m   4754\u001b[0m     indexer \u001b[38;5;241m=\u001b[39m axis\u001b[38;5;241m.\u001b[39mget_indexer(new_axis)\n\u001b[1;32m   4756\u001b[0m \u001b[38;5;66;03m# Case for non-unique axis\u001b[39;00m\n\u001b[1;32m   4757\u001b[0m \u001b[38;5;28;01melse\u001b[39;00m:\n",
      "File \u001b[0;32m~/anaconda3/lib/python3.11/site-packages/pandas/core/indexes/base.py:7000\u001b[0m, in \u001b[0;36mIndex.drop\u001b[0;34m(self, labels, errors)\u001b[0m\n\u001b[1;32m   6998\u001b[0m \u001b[38;5;28;01mif\u001b[39;00m mask\u001b[38;5;241m.\u001b[39many():\n\u001b[1;32m   6999\u001b[0m     \u001b[38;5;28;01mif\u001b[39;00m errors \u001b[38;5;241m!=\u001b[39m \u001b[38;5;124m\"\u001b[39m\u001b[38;5;124mignore\u001b[39m\u001b[38;5;124m\"\u001b[39m:\n\u001b[0;32m-> 7000\u001b[0m         \u001b[38;5;28;01mraise\u001b[39;00m \u001b[38;5;167;01mKeyError\u001b[39;00m(\u001b[38;5;124mf\u001b[39m\u001b[38;5;124m\"\u001b[39m\u001b[38;5;132;01m{\u001b[39;00mlabels[mask]\u001b[38;5;241m.\u001b[39mtolist()\u001b[38;5;132;01m}\u001b[39;00m\u001b[38;5;124m not found in axis\u001b[39m\u001b[38;5;124m\"\u001b[39m)\n\u001b[1;32m   7001\u001b[0m     indexer \u001b[38;5;241m=\u001b[39m indexer[\u001b[38;5;241m~\u001b[39mmask]\n\u001b[1;32m   7002\u001b[0m \u001b[38;5;28;01mreturn\u001b[39;00m \u001b[38;5;28mself\u001b[39m\u001b[38;5;241m.\u001b[39mdelete(indexer)\n",
      "\u001b[0;31mKeyError\u001b[0m: \"['Date', 'Open', 'High', 'Low'] not found in axis\""
     ]
    }
   ],
   "source": [
    "def TI_calculations(data):\n",
    "    data = data[['Close']]\n",
    "    data['returns'] = -data['Close'].diff(-1)\n",
    "    \n",
    "    # Remove non-numeric values\n",
    "    data = data.apply(pd.to_numeric, errors='coerce')\n",
    "    data.dropna(inplace = True)\n",
    "    return data\n",
    "\n",
    "data = TI_calculations(data)\n",
    "data.tail()"
   ]
  },
  {
   "cell_type": "markdown",
   "id": "43252609-fb64-46ad-b560-6f3a5896ce0d",
   "metadata": {},
   "source": [
    "# **KNN Search with euclidean distance metrics**"
   ]
  },
  {
   "cell_type": "code",
   "execution_count": null,
   "id": "4123972b-c4b9-49c3-a13f-d714fa47b880",
   "metadata": {},
   "outputs": [],
   "source": [
    "train_set_length = int(training_set_ratio*data.shape[0])     # 90% of the data is used for training"
   ]
  },
  {
   "cell_type": "markdown",
   "id": "9f4c862f-263f-4c65-952d-39fc6fc7bcf1",
   "metadata": {},
   "source": [
    "**Algorithm**\n",
    "\n",
    "1) The data is normalized first.Normalization ensure that the distance between two point for attribute 1 is in the same scale as the distance between any other two points.The distances only will be in the range 0 to 1.\n",
    "2) The euclidean distances of the current day price,TIs(query) are calculated with respect to all the element training set.\n",
    "3) The whole dataset is then sorted based on this training set in ascending order and then the first 'k' row are returned"
   ]
  },
  {
   "cell_type": "code",
   "execution_count": null,
   "id": "7fa33f14-a019-428f-b8ae-fad7a3bdeff3",
   "metadata": {},
   "outputs": [],
   "source": [
    "def knn_search(data,query,k,enable_normalization = enable_knn_normalization):\n",
    "    \n",
    "    # Scaling the data\n",
    "    if enable_normalization:\n",
    "        query = (query - data.min())/(data.max() - data.min())\n",
    "        temp_data = (data - data.min())/(data.max() - data.min())\n",
    "    else:\n",
    "        temp_data = data\n",
    "        \n",
    "    neighbors_model = NearestNeighbors(n_neighbors=k, metric='euclidean')\n",
    "    neighbors_model.fit(temp_data)\n",
    "    query = query.values.reshape(1,-1) \n",
    "    distances, indices = neighbors_model.kneighbors(query)\n",
    "    \n",
    "    return data.iloc[indices[0]]\n",
    "\n",
    "sorted_data = knn_search(data,data.iloc[-1,:],10)"
   ]
  },
  {
   "cell_type": "code",
   "execution_count": null,
   "id": "5fccdf08-bf25-4f0a-903e-6db5089b26f4",
   "metadata": {},
   "outputs": [],
   "source": [
    "sorted_data"
   ]
  },
  {
   "cell_type": "code",
   "execution_count": null,
   "id": "4a41e693-49c9-4ca9-b37d-9f14874932d3",
   "metadata": {},
   "outputs": [],
   "source": [
    "estimated_price_dictionary = {}\n",
    "actual_price_dictionary = {}\n",
    "for file in filenames:\n",
    "    data = pd.read_csv(file)\n",
    "    data = TI_calculations(data)\n",
    "    \n",
    "    actual_close_price = []\n",
    "    estimated_close_price = []\n",
    "    for i in tqdm(range(data.shape[0]-train_set_length-1),desc = f\"Processing {file} : \"):\n",
    "        data_for_search = data.iloc[i:i+train_set_length,:]\n",
    "        query = data.iloc[i+train_set_length,:]\n",
    "    \n",
    "        sorted_data = knn_search(data_for_search,query,k_param)\n",
    "        estimated_return = sorted_data['returns'].mean()\n",
    "    \n",
    "        estimated_close_price.append(query['Close'] + estimated_return)\n",
    "        actual_close_price.append(data.iloc[i+train_set_length+1,:]['Close'])\n",
    "\n",
    "    # Error metrics\n",
    "    estimated_close_price = np.array(estimated_close_price)\n",
    "    actual_close_price = np.array(actual_close_price)\n",
    "\n",
    "    estimated_price_dictionary[file] = estimated_close_price\n",
    "    actual_price_dictionary[file] = actual_close_price"
   ]
  },
  {
   "cell_type": "markdown",
   "id": "70502018-4c17-4721-abc4-bac66acfec0a",
   "metadata": {},
   "source": [
    "# **Visualization**"
   ]
  },
  {
   "cell_type": "code",
   "execution_count": null,
   "id": "ad1d5f51-bf59-4812-abf0-5fd688f6de4a",
   "metadata": {},
   "outputs": [],
   "source": [
    "plt.figure(figsize = (12,5))\n",
    "\n",
    "plt.subplot(131)\n",
    "plt.title(f\"File : {filenames[0]}\")\n",
    "plt.plot(actual_price_dictionary[filenames[0]])\n",
    "plt.plot(estimated_price_dictionary[filenames[0]])\n",
    "plt.legend(['actual_close_price','estimated_close_price'])\n",
    "\n",
    "plt.subplot(132)\n",
    "plt.title(f\"File : {filenames[1]}\")\n",
    "plt.plot(actual_price_dictionary[filenames[1]])\n",
    "plt.plot(estimated_price_dictionary[filenames[1]])\n",
    "plt.legend(['actual_close_price','estimated_close_price'])\n",
    "\n",
    "plt.subplot(133)\n",
    "plt.title(f\"File : {filenames[2]}\")\n",
    "plt.plot(actual_price_dictionary[filenames[2]])\n",
    "plt.plot(estimated_price_dictionary[filenames[2]])\n",
    "plt.legend(['actual_close_price','estimated_close_price'])\n",
    "\n",
    "plt.show()"
   ]
  },
  {
   "cell_type": "code",
   "execution_count": null,
   "id": "dd759988-ca5c-4fe9-8e6c-2b0e028a3a8b",
   "metadata": {},
   "outputs": [],
   "source": [
    "plt.figure(figsize = (12,5))\n",
    "\n",
    "plt.subplot(131)\n",
    "plt.title(f\"File : {filenames[0]}\")\n",
    "plt.plot(actual_price_dictionary[filenames[0]] - estimated_price_dictionary[filenames[0]])\n",
    "\n",
    "plt.subplot(132)\n",
    "plt.title(f\"File : {filenames[1]}\")\n",
    "plt.plot(actual_price_dictionary[filenames[1]] - estimated_price_dictionary[filenames[1]])\n",
    "\n",
    "plt.subplot(133)\n",
    "plt.title(f\"File : {filenames[2]}\")\n",
    "plt.plot(actual_price_dictionary[filenames[2]] - estimated_price_dictionary[filenames[2]])\n",
    "\n",
    "plt.show()"
   ]
  },
  {
   "cell_type": "code",
   "execution_count": null,
   "id": "2134bb82-7de2-4917-bdb3-b1edadac6dad",
   "metadata": {},
   "outputs": [],
   "source": [
    "for file in filenames:\n",
    "    error = actual_price_dictionary[file] - estimated_price_dictionary[file]\n",
    "    print(f\"The rmse for {file} with enable_knn_normalization as {enable_knn_normalization} is {np.sqrt(np.mean(error**2))} <br>\")"
   ]
  },
  {
   "cell_type": "markdown",
   "id": "d5ca788a-401d-42b0-8c45-0fc5bb804bb4",
   "metadata": {},
   "source": [
    "# **Result**"
   ]
  },
  {
   "cell_type": "markdown",
   "id": "5638e768-26c9-4d27-8352-cae13b30095c",
   "metadata": {},
   "source": [
    "The rmse for sensex_1990_to_2014.csv with enable_knn_normalization as True is 155.16112961199286 <br>\n",
    "The rmse for nifty_1994_to_2014.csv with enable_knn_normalization as True is 52.510672096852375 <br>\n",
    "The rmse for nifty_2000_to_2024.csv with enable_knn_normalization as True is 80.39006232530932 <br>\n",
    "\n",
    "The rmse for sensex_1990_to_2014.csv with enable_knn_normalization as False is 216.03921169398518 <br>\n",
    "The rmse for nifty_1994_to_2014.csv with enable_knn_normalization as False is 58.886214070856674 <br>\n",
    "The rmse for nifty_2000_to_2024.csv with enable_knn_normalization as False is 71.89880566902163 <br>"
   ]
  },
  {
   "cell_type": "markdown",
   "id": "036274da-ed0d-4fb1-bb80-cc135e808eb5",
   "metadata": {},
   "source": [
    "**Only Close price**\n",
    "\n",
    "The rmse for sensex_1990_to_2014.csv with enable_knn_normalization as True is 69.56409629760876 <br>\n",
    "The rmse for nifty_1994_to_2014.csv with enable_knn_normalization as True is 38.41585383388505 <br>\n",
    "The rmse for nifty_2000_to_2024.csv with enable_knn_normalization as True is 50.3351461228365 <br>"
   ]
  },
  {
   "cell_type": "code",
   "execution_count": null,
   "id": "c629f536-1aab-4d00-9a27-d45e55b9376e",
   "metadata": {},
   "outputs": [],
   "source": []
  }
 ],
 "metadata": {
  "kernelspec": {
   "display_name": "Python 3 (ipykernel)",
   "language": "python",
   "name": "python3"
  },
  "language_info": {
   "codemirror_mode": {
    "name": "ipython",
    "version": 3
   },
   "file_extension": ".py",
   "mimetype": "text/x-python",
   "name": "python",
   "nbconvert_exporter": "python",
   "pygments_lexer": "ipython3",
   "version": "3.11.7"
  }
 },
 "nbformat": 4,
 "nbformat_minor": 5
}
